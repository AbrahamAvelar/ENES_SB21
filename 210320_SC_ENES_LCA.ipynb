{
 "cells": [
  {
   "cell_type": "markdown",
   "metadata": {},
   "source": [
    "# Este es el taller de Python (esto es un título en formato Markdown)\n",
    "- esta es una lista\n",
    "- este es el segundo elemento de la lista en __negritas__"
   ]
  },
  {
   "cell_type": "markdown",
   "metadata": {},
   "source": [
    "# Título\n",
    "## Subtítulo\n",
    "### tercer nivel\n",
    "1. Esta es una lista numerada\n",
    "2. Este es el segundo elemento\n",
    "3. :p\n",
    "\n",
    "si yo estoy escribiendo y le doy `enter`,\n",
    "no da una nueva linea\n",
    "para generar una nueva línea se usan `Spacebar+spacebar+enter`  \n",
    "Esta es una nueva línea"
   ]
  },
  {
   "cell_type": "markdown",
   "metadata": {},
   "source": [
    "_Así se ponen las fórmulas matemáticas_\n",
    "$\\sum_{i=1}^{N} 2^{-i} \\approx 1$"
   ]
  },
  {
   "cell_type": "code",
   "execution_count": 10,
   "metadata": {},
   "outputs": [
    {
     "name": "stdout",
     "output_type": "stream",
     "text": [
      "La edad de Ahmed es 42\n"
     ]
    }
   ],
   "source": [
    "# Este es un comentario de python en una celda de código\n",
    "# Las variables se asignan con el símbolo Igual \"=\"\n",
    "age = 42\n",
    "first_name=\"Ahmed\"\n",
    "other_name='Abraham'\n",
    "print(\"La edad de\", first_name, \"es\", age )"
   ]
  },
  {
   "cell_type": "code",
   "execution_count": 19,
   "metadata": {},
   "outputs": [
    {
     "name": "stdout",
     "output_type": "stream",
     "text": [
      "30\n",
      "Las variables persisten entre celdas Ahmed\n",
      "51.0\n",
      "Abra\n",
      "other_name mide  7 caracteres\n"
     ]
    }
   ],
   "source": [
    "# Python distingue entre mayúsculas y minúsculas\n",
    "Age=30\n",
    "print(Age)\n",
    "print(\"Las variables persisten entre celdas\", first_name)\n",
    "print(Age+age/2) # las variables numéricas se usan en cálculos\n",
    "print(other_name[0:4]) # Las variables de texto se pueden acceder con índices\n",
    "print(\"other_name mide \",len(other_name), \"caracteres\") "
   ]
  },
  {
   "cell_type": "code",
   "execution_count": 21,
   "metadata": {},
   "outputs": [
    {
     "name": "stdout",
     "output_type": "stream",
     "text": [
      "23 Abraham\n"
     ]
    }
   ],
   "source": [
    "# Las variables deben tener nombres significativos\n",
    "balon=23\n",
    "ciudad=\"Abraham\"\n",
    "print(balon, ciudad)\n",
    "sum"
   ]
  },
  {
   "cell_type": "code",
   "execution_count": 35,
   "metadata": {},
   "outputs": [
    {
     "data": {
      "text/plain": [
       "'1234'"
      ]
     },
     "execution_count": 35,
     "metadata": {},
     "output_type": "execute_result"
    }
   ],
   "source": [
    "a=\"1234567\"\n",
    "a[:4]"
   ]
  },
  {
   "cell_type": "code",
   "execution_count": 24,
   "metadata": {},
   "outputs": [
    {
     "ename": "TypeError",
     "evalue": "'int' object is not subscriptable",
     "output_type": "error",
     "traceback": [
      "\u001b[1;31m---------------------------------------------------------------------------\u001b[0m",
      "\u001b[1;31mTypeError\u001b[0m                                 Traceback (most recent call last)",
      "\u001b[1;32m<ipython-input-24-90da2a55eeb3>\u001b[0m in \u001b[0;36m<module>\u001b[1;34m\u001b[0m\n\u001b[0;32m      1\u001b[0m \u001b[0ma\u001b[0m\u001b[1;33m=\u001b[0m\u001b[1;36m123\u001b[0m\u001b[1;33m\u001b[0m\u001b[1;33m\u001b[0m\u001b[0m\n\u001b[1;32m----> 2\u001b[1;33m \u001b[0ma\u001b[0m\u001b[1;33m[\u001b[0m\u001b[1;36m1\u001b[0m\u001b[1;33m]\u001b[0m\u001b[1;33m\u001b[0m\u001b[1;33m\u001b[0m\u001b[0m\n\u001b[0m",
      "\u001b[1;31mTypeError\u001b[0m: 'int' object is not subscriptable"
     ]
    }
   ],
   "source": [
    "a=123\n",
    "a[1]"
   ]
  },
  {
   "cell_type": "markdown",
   "metadata": {},
   "source": [
    "# Hay tres tipos básicos de variables en python\n",
    "- `int` son números enteros\n",
    "- `float` son números con decimales\n",
    "- `str` son cadenas de texto"
   ]
  },
  {
   "cell_type": "code",
   "execution_count": 39,
   "metadata": {},
   "outputs": [
    {
     "name": "stdout",
     "output_type": "stream",
     "text": [
      "<class 'str'> <class 'int'>\n"
     ]
    }
   ],
   "source": [
    "# con type encuentras el tipo de tu variable\n",
    "untexto=\"12345\"\n",
    "unint=12345\n",
    "print(type(a), type(b) )"
   ]
  },
  {
   "cell_type": "code",
   "execution_count": 51,
   "metadata": {},
   "outputs": [
    {
     "data": {
      "text/plain": [
       "12355"
      ]
     },
     "execution_count": 51,
     "metadata": {},
     "output_type": "execute_result"
    }
   ],
   "source": [
    "unint/2\n",
    "unint+10\n",
    "#len(unint)"
   ]
  },
  {
   "cell_type": "code",
   "execution_count": 50,
   "metadata": {},
   "outputs": [
    {
     "data": {
      "text/plain": [
       "'12345undiez'"
      ]
     },
     "execution_count": 50,
     "metadata": {},
     "output_type": "execute_result"
    }
   ],
   "source": [
    "untexto+\"undiez\""
   ]
  },
  {
   "cell_type": "code",
   "execution_count": 54,
   "metadata": {},
   "outputs": [
    {
     "name": "stdout",
     "output_type": "stream",
     "text": [
      "3\n",
      "12\n"
     ]
    }
   ],
   "source": [
    "print(1+int(\"2\"))\n",
    "print(str(1)+\"2\")"
   ]
  },
  {
   "cell_type": "code",
   "execution_count": 56,
   "metadata": {},
   "outputs": [
    {
     "data": {
      "text/plain": [
       "float"
      ]
     },
     "execution_count": 56,
     "metadata": {},
     "output_type": "execute_result"
    }
   ],
   "source": [
    "unfloat= 3.1415\n",
    "unint=5\n",
    "nuevonumero = unint/unfloat\n",
    "type(nuevonumero)"
   ]
  },
  {
   "cell_type": "code",
   "execution_count": 59,
   "metadata": {},
   "outputs": [
    {
     "name": "stdout",
     "output_type": "stream",
     "text": [
      "cualquiercosa\n"
     ]
    }
   ],
   "source": [
    "outputdeprint=print(\"cualquiercosa\")\n",
    "outputdelen=len(\"estetexto\")"
   ]
  },
  {
   "cell_type": "code",
   "execution_count": 60,
   "metadata": {},
   "outputs": [
    {
     "name": "stdout",
     "output_type": "stream",
     "text": [
      "None 9\n"
     ]
    }
   ],
   "source": [
    "print(outputdeprint, outputdelen)"
   ]
  },
  {
   "cell_type": "code",
   "execution_count": 61,
   "metadata": {},
   "outputs": [
    {
     "name": "stdout",
     "output_type": "stream",
     "text": [
      "Help on built-in function round in module builtins:\n",
      "\n",
      "round(number, ndigits=None)\n",
      "    Round a number to a given precision in decimal digits.\n",
      "    \n",
      "    The return value is an integer if ndigits is omitted or None.  Otherwise\n",
      "    the return value has the same type as the number.  ndigits may be negative.\n",
      "\n"
     ]
    }
   ],
   "source": [
    "help(round)"
   ]
  },
  {
   "cell_type": "code",
   "execution_count": 63,
   "metadata": {},
   "outputs": [
    {
     "data": {
      "text/plain": [
       "3.14"
      ]
     },
     "execution_count": 63,
     "metadata": {},
     "output_type": "execute_result"
    }
   ],
   "source": [
    "round(3.1415, 2)"
   ]
  },
  {
   "cell_type": "code",
   "execution_count": 71,
   "metadata": {},
   "outputs": [
    {
     "data": {
      "text/plain": [
       "9.0"
      ]
     },
     "execution_count": 71,
     "metadata": {},
     "output_type": "execute_result"
    }
   ],
   "source": [
    "import math\n",
    "#help(math)\n",
    "math.sqrt(81,)"
   ]
  },
  {
   "cell_type": "code",
   "execution_count": 80,
   "metadata": {},
   "outputs": [
    {
     "data": {
      "text/plain": [
       "'D:\\\\Dropbox\\\\Software_Carpentry'"
      ]
     },
     "execution_count": 80,
     "metadata": {},
     "output_type": "execute_result"
    }
   ],
   "source": [
    "#help(random)\n",
    "%pwd"
   ]
  },
  {
   "cell_type": "markdown",
   "metadata": {},
   "source": [
    "# Import dataFrames with pandas"
   ]
  },
  {
   "cell_type": "code",
   "execution_count": 84,
   "metadata": {
    "collapsed": true,
    "jupyter": {
     "outputs_hidden": true
    }
   },
   "outputs": [
    {
     "name": "stdout",
     "output_type": "stream",
     "text": [
      "               continent  gdpPercap_1952  gdpPercap_1957  gdpPercap_1962  \\\n",
      "country                                                                    \n",
      "Algeria           Africa     2449.008185     3013.976023     2550.816880   \n",
      "Angola            Africa     3520.610273     3827.940465     4269.276742   \n",
      "Benin             Africa     1062.752200      959.601080      949.499064   \n",
      "Botswana          Africa      851.241141      918.232535      983.653976   \n",
      "Burkina Faso      Africa      543.255241      617.183465      722.512021   \n",
      "...                  ...             ...             ...             ...   \n",
      "Switzerland       Europe    14734.232750    17909.489730    20431.092700   \n",
      "Turkey            Europe     1969.100980     2218.754257     2322.869908   \n",
      "United Kingdom    Europe     9979.508487    11283.177950    12477.177070   \n",
      "Australia        Oceania    10039.595640    10949.649590    12217.226860   \n",
      "New Zealand      Oceania    10556.575660    12247.395320    13175.678000   \n",
      "\n",
      "                gdpPercap_1967  gdpPercap_1972  gdpPercap_1977  \\\n",
      "country                                                          \n",
      "Algeria            3246.991771     4182.663766     4910.416756   \n",
      "Angola             5522.776375     5473.288005     3008.647355   \n",
      "Benin              1035.831411     1085.796879     1029.161251   \n",
      "Botswana           1214.709294     2263.611114     3214.857818   \n",
      "Burkina Faso        794.826560      854.735976      743.387037   \n",
      "...                        ...             ...             ...   \n",
      "Switzerland       22966.144320    27195.113040    26982.290520   \n",
      "Turkey             2826.356387     3450.696380     4269.122326   \n",
      "United Kingdom    14142.850890    15895.116410    17428.748460   \n",
      "Australia         14526.124650    16788.629480    18334.197510   \n",
      "New Zealand       14463.918930    16046.037280    16233.717700   \n",
      "\n",
      "                gdpPercap_1982  gdpPercap_1987  gdpPercap_1992  ...  \\\n",
      "country                                                         ...   \n",
      "Algeria            5745.160213     5681.358539     5023.216647  ...   \n",
      "Angola             2756.953672     2430.208311     2627.845685  ...   \n",
      "Benin              1277.897616     1225.856010     1191.207681  ...   \n",
      "Botswana           4551.142150     6205.883850     7954.111645  ...   \n",
      "Burkina Faso        807.198586      912.063142      931.752773  ...   \n",
      "...                        ...             ...             ...  ...   \n",
      "Switzerland       28397.715120    30281.704590    31871.530300  ...   \n",
      "Turkey             4241.356344     5089.043686     5678.348271  ...   \n",
      "United Kingdom    18232.424520    21664.787670    22705.092540  ...   \n",
      "Australia         19477.009280    21888.889030    23424.766830  ...   \n",
      "New Zealand       17632.410400    19007.191290    18363.324940  ...   \n",
      "\n",
      "                  pop_1962    pop_1967    pop_1972    pop_1977    pop_1982  \\\n",
      "country                                                                      \n",
      "Algeria         11000948.0  12760499.0  14760787.0  17152804.0  20033753.0   \n",
      "Angola           4826015.0   5247469.0   5894858.0   6162675.0   7016384.0   \n",
      "Benin            2151895.0   2427334.0   2761407.0   3168267.0   3641603.0   \n",
      "Botswana          512764.0    553541.0    619351.0    781472.0    970347.0   \n",
      "Burkina Faso     4919632.0   5127935.0   5433886.0   5889574.0   6634596.0   \n",
      "...                    ...         ...         ...         ...         ...   \n",
      "Switzerland      5666000.0   6063000.0   6401400.0   6316424.0   6468126.0   \n",
      "Turkey          29788695.0  33411317.0  37492953.0  42404033.0  47328791.0   \n",
      "United Kingdom  53292000.0  54959000.0  56079000.0  56179000.0  56339704.0   \n",
      "Australia       10794968.0  11872264.0  13177000.0  14074100.0  15184200.0   \n",
      "New Zealand      2488550.0   2728150.0   2929100.0   3164900.0   3210650.0   \n",
      "\n",
      "                  pop_1987    pop_1992    pop_1997  pop_2002  pop_2007  \n",
      "country                                                                 \n",
      "Algeria         23254956.0  26298373.0  29072015.0  31287142  33333216  \n",
      "Angola           7874230.0   8735988.0   9875024.0  10866106  12420476  \n",
      "Benin            4243788.0   4981671.0   6066080.0   7026113   8078314  \n",
      "Botswana         1151184.0   1342614.0   1536536.0   1630347   1639131  \n",
      "Burkina Faso     7586551.0   8878303.0  10352843.0  12251209  14326203  \n",
      "...                    ...         ...         ...       ...       ...  \n",
      "Switzerland      6649942.0   6995447.0   7193761.0   7361757   7554661  \n",
      "Turkey          52881328.0  58179144.0  63047647.0  67308928  71158647  \n",
      "United Kingdom  56981620.0  57866349.0  58808266.0  59912431  60776238  \n",
      "Australia       16257249.0  17481977.0  18565243.0  19546792  20434176  \n",
      "New Zealand      3317166.0   3437674.0   3676187.0   3908037   4115771  \n",
      "\n",
      "[142 rows x 37 columns]\n"
     ]
    }
   ],
   "source": [
    "import pandas as pd\n",
    "data=pd.read_csv(\"python-novice-gapminder-data\\\\data\\\\gapminder_all.csv\", index_col=\"country\")\n",
    "print(data)"
   ]
  },
  {
   "cell_type": "code",
   "execution_count": 87,
   "metadata": {},
   "outputs": [
    {
     "data": {
      "text/plain": [
       "Index(['Algeria', 'Angola', 'Benin', 'Botswana', 'Burkina Faso', 'Burundi',\n",
       "       'Cameroon', 'Central African Republic', 'Chad', 'Comoros',\n",
       "       ...\n",
       "       'Serbia', 'Slovak Republic', 'Slovenia', 'Spain', 'Sweden',\n",
       "       'Switzerland', 'Turkey', 'United Kingdom', 'Australia', 'New Zealand'],\n",
       "      dtype='object', name='country', length=142)"
      ]
     },
     "execution_count": 87,
     "metadata": {},
     "output_type": "execute_result"
    }
   ],
   "source": [
    "data.index"
   ]
  },
  {
   "cell_type": "markdown",
   "metadata": {},
   "source": [
    "# PLOTTING"
   ]
  },
  {
   "cell_type": "code",
   "execution_count": 90,
   "metadata": {},
   "outputs": [
    {
     "data": {
      "text/plain": [
       "Text(0, 0.5, 'Posición, km')"
      ]
     },
     "execution_count": 90,
     "metadata": {},
     "output_type": "execute_result"
    },
    {
     "data": {
      "image/png": "[encoded data removed]",
      "text/plain": [
       "<Figure size 432x288 with 1 Axes>"
      ]
     },
     "metadata": {
      "needs_background": "light"
     },
     "output_type": "display_data"
    }
   ],
   "source": [
    "# matplotlib sirve para hacer gráficas\n",
    "%matplotlib inline\n",
    "import matplotlib.pyplot as plt\n",
    "time=[0,1,5,7]\n",
    "position=[0,100,200,500]\n",
    "plt.plot(time, position)\n",
    "plt.xlabel(\"Tiempo, horas\")\n",
    "plt.ylabel(\"Posición, km\")"
   ]
  },
  {
   "cell_type": "code",
   "execution_count": 95,
   "metadata": {},
   "outputs": [
    {
     "data": {
      "text/plain": [
       "'D:\\\\Dropbox\\\\Software_Carpentry'"
      ]
     },
     "execution_count": 95,
     "metadata": {},
     "output_type": "execute_result"
    }
   ],
   "source": [
    "%pwd"
   ]
  },
  {
   "cell_type": "code",
   "execution_count": 96,
   "metadata": {},
   "outputs": [
    {
     "name": "stdout",
     "output_type": "stream",
     "text": [
      " El volumen de la unidad D es DATA\n",
      " El número de serie del volumen es: 1C93-4C03\n",
      "\n",
      " Directorio de D:\\Dropbox\\Software_Carpentry\n",
      "\n",
      "20/03/2021  02:09 p. m.    <DIR>          .\n",
      "20/03/2021  02:09 p. m.    <DIR>          ..\n",
      "20/03/2021  09:28 a. m.    <DIR>          .ipynb_checkpoints\n",
      "20/03/2021  02:09 p. m.            27,959 210320_SC_ENES_LCA.ipynb\n",
      "20/03/2021  11:42 a. m.    <DIR>          python-novice-gapminder-data\n",
      "20/03/2021  11:40 a. m.            38,471 python-novice-gapminder-data.zip\n",
      "20/03/2021  09:27 a. m.                 0 untitled.txt\n",
      "               3 archivos         66,430 bytes\n",
      "               4 dirs  908,870,242,304 bytes libres\n"
     ]
    }
   ],
   "source": [
    "%ls"
   ]
  },
  {
   "cell_type": "code",
   "execution_count": 113,
   "metadata": {},
   "outputs": [
    {
     "data": {
      "text/plain": [
       "<matplotlib.axes._subplots.AxesSubplot at 0x1f32d7a7070>"
      ]
     },
     "execution_count": 113,
     "metadata": {},
     "output_type": "execute_result"
    },
    {
     "data": {
      "image/png": "[encoded data removed]",
      "text/plain": [
       "<Figure size 432x288 with 1 Axes>"
      ]
     },
     "metadata": {
      "needs_background": "light"
     },
     "output_type": "display_data"
    }
   ],
   "source": [
    "import pandas as pd\n",
    "# Se pueden hacer plots directamente de los Pandas DataFrames\n",
    "data = pd.read_csv(\"python-novice-gapminder-data/data/gapminder_gdp_oceania.csv\", index_col=\"country\")\n",
    "data = pd.read_csv(\"D:\\Dropbox\\Software_Carpentry\\python-novice-gapminder-data\\data\\gapminder_gdp_oceania.csv\", index_col=\"country\")\n",
    "data\n",
    "years = data.columns.str.strip('gdpPercap_')\n",
    "years\n",
    "data.columns=years.astype(int)\n",
    "data.columns\n",
    "data.loc[\"Australia\"].plot()"
   ]
  },
  {
   "cell_type": "code",
   "execution_count": 118,
   "metadata": {},
   "outputs": [
    {
     "data": {
      "text/plain": [
       "Text(0.5, 0, 'year')"
      ]
     },
     "execution_count": 118,
     "metadata": {},
     "output_type": "execute_result"
    },
    {
     "data": {
      "image/png": "[encoded data removed]",
      "text/plain": [
       "<Figure size 432x288 with 1 Axes>"
      ]
     },
     "metadata": {
      "needs_background": "light"
     },
     "output_type": "display_data"
    }
   ],
   "source": [
    "data.T.plot()\n",
    "plt.ylabel('GDP per capita')\n",
    "plt.xlabel('year')"
   ]
  },
  {
   "cell_type": "code",
   "execution_count": 121,
   "metadata": {},
   "outputs": [
    {
     "data": {
      "text/html": [
       "<div>\n",
       "<style scoped>\n",
       "    .dataframe tbody tr th:only-of-type {\n",
       "        vertical-align: middle;\n",
       "    }\n",
       "\n",
       "    .dataframe tbody tr th {\n",
       "        vertical-align: top;\n",
       "    }\n",
       "\n",
       "    .dataframe thead th {\n",
       "        text-align: right;\n",
       "    }\n",
       "</style>\n",
       "<table border=\"1\" class=\"dataframe\">\n",
       "  <thead>\n",
       "    <tr style=\"text-align: right;\">\n",
       "      <th>country</th>\n",
       "      <th>Australia</th>\n",
       "      <th>New Zealand</th>\n",
       "    </tr>\n",
       "  </thead>\n",
       "  <tbody>\n",
       "    <tr>\n",
       "      <th>1952</th>\n",
       "      <td>10039.59564</td>\n",
       "      <td>10556.57566</td>\n",
       "    </tr>\n",
       "    <tr>\n",
       "      <th>1957</th>\n",
       "      <td>10949.64959</td>\n",
       "      <td>12247.39532</td>\n",
       "    </tr>\n",
       "    <tr>\n",
       "      <th>1962</th>\n",
       "      <td>12217.22686</td>\n",
       "      <td>13175.67800</td>\n",
       "    </tr>\n",
       "    <tr>\n",
       "      <th>1967</th>\n",
       "      <td>14526.12465</td>\n",
       "      <td>14463.91893</td>\n",
       "    </tr>\n",
       "    <tr>\n",
       "      <th>1972</th>\n",
       "      <td>16788.62948</td>\n",
       "      <td>16046.03728</td>\n",
       "    </tr>\n",
       "    <tr>\n",
       "      <th>1977</th>\n",
       "      <td>18334.19751</td>\n",
       "      <td>16233.71770</td>\n",
       "    </tr>\n",
       "    <tr>\n",
       "      <th>1982</th>\n",
       "      <td>19477.00928</td>\n",
       "      <td>17632.41040</td>\n",
       "    </tr>\n",
       "    <tr>\n",
       "      <th>1987</th>\n",
       "      <td>21888.88903</td>\n",
       "      <td>19007.19129</td>\n",
       "    </tr>\n",
       "    <tr>\n",
       "      <th>1992</th>\n",
       "      <td>23424.76683</td>\n",
       "      <td>18363.32494</td>\n",
       "    </tr>\n",
       "    <tr>\n",
       "      <th>1997</th>\n",
       "      <td>26997.93657</td>\n",
       "      <td>21050.41377</td>\n",
       "    </tr>\n",
       "    <tr>\n",
       "      <th>2002</th>\n",
       "      <td>30687.75473</td>\n",
       "      <td>23189.80135</td>\n",
       "    </tr>\n",
       "    <tr>\n",
       "      <th>2007</th>\n",
       "      <td>34435.36744</td>\n",
       "      <td>25185.00911</td>\n",
       "    </tr>\n",
       "  </tbody>\n",
       "</table>\n",
       "</div>"
      ],
      "text/plain": [
       "country    Australia  New Zealand\n",
       "1952     10039.59564  10556.57566\n",
       "1957     10949.64959  12247.39532\n",
       "1962     12217.22686  13175.67800\n",
       "1967     14526.12465  14463.91893\n",
       "1972     16788.62948  16046.03728\n",
       "1977     18334.19751  16233.71770\n",
       "1982     19477.00928  17632.41040\n",
       "1987     21888.88903  19007.19129\n",
       "1992     23424.76683  18363.32494\n",
       "1997     26997.93657  21050.41377\n",
       "2002     30687.75473  23189.80135\n",
       "2007     34435.36744  25185.00911"
      ]
     },
     "execution_count": 121,
     "metadata": {},
     "output_type": "execute_result"
    }
   ],
   "source": [
    "data.T"
   ]
  },
  {
   "cell_type": "code",
   "execution_count": 123,
   "metadata": {},
   "outputs": [
    {
     "data": {
      "text/plain": [
       "Text(0.5, 0, 'years')"
      ]
     },
     "execution_count": 123,
     "metadata": {},
     "output_type": "execute_result"
    },
    {
     "data": {
      "image/png": "[encoded data removed]",
      "text/plain": [
       "<Figure size 432x288 with 1 Axes>"
      ]
     },
     "metadata": {
      "needs_background": "light"
     },
     "output_type": "display_data"
    }
   ],
   "source": [
    "data.T.plot()\n",
    "plt.ylabel(\"GDP per capita\")\n",
    "plt.xlabel(\"years\")"
   ]
  },
  {
   "cell_type": "code",
   "execution_count": 125,
   "metadata": {},
   "outputs": [
    {
     "data": {
      "text/plain": [
       "Text(0, 0.5, 'GDP per capita')"
      ]
     },
     "execution_count": 125,
     "metadata": {},
     "output_type": "execute_result"
    },
    {
     "data": {
      "image/png": "[encoded data removed]",
      "text/plain": [
       "<Figure size 432x288 with 1 Axes>"
      ]
     },
     "metadata": {},
     "output_type": "display_data"
    }
   ],
   "source": [
    "plt.style.use(\"ggplot\")\n",
    "data.T.plot(kind=\"bar\")\n",
    "plt.ylabel('GDP per capita')\n"
   ]
  },
  {
   "cell_type": "code",
   "execution_count": 126,
   "metadata": {},
   "outputs": [
    {
     "data": {
      "text/plain": [
       "<matplotlib.axes._subplots.AxesSubplot at 0x1f32ec6dc40>"
      ]
     },
     "execution_count": 126,
     "metadata": {},
     "output_type": "execute_result"
    },
    {
     "data": {
      "image/png": "[encoded data removed]",
      "text/plain": [
       "<Figure size 432x288 with 1 Axes>"
      ]
     },
     "metadata": {},
     "output_type": "display_data"
    }
   ],
   "source": [
    "data.T.plot.scatter(x=\"Australia\", y=\"New Zealand\")"
   ]
  },
  {
   "cell_type": "code",
   "execution_count": 128,
   "metadata": {},
   "outputs": [],
   "source": [
    "# getting necessary libraries\n",
    "import numpy as np\n",
    "import pandas as pd\n",
    "import seaborn as sns\n",
    "import matplotlib.pyplot as plt\n",
    "#sns.set_theme(style=\"white\", rc={\"axes.facecolor\": (0, 0, 0, 0)})\n",
    "\n",
    "# getting the data\n",
    "temp = pd.read_csv('https://raw.githubusercontent.com/plotly/datasets/master/2016-weather-data-seattle.csv') # we retrieve the data from plotly's GitHub repository\n",
    "temp['month'] = pd.to_datetime(temp['Date']).dt.month # we store the month in a separate column\n",
    "\n",
    "# we define a dictionnary with months that we'll use later\n",
    "month_dict = {1: 'january',\n",
    "              2: 'february',\n",
    "              3: 'march',\n",
    "              4: 'april',\n",
    "              5: 'may',\n",
    "              6: 'june',\n",
    "              7: 'july',\n",
    "              8: 'august',\n",
    "              9: 'september',\n",
    "              10: 'october',\n",
    "              11: 'november',\n",
    "              12: 'december'}\n",
    "\n",
    "# we create a 'month' column\n",
    "temp['month'] = temp['month'].map(month_dict)\n",
    "\n",
    "# we generate a pd.Serie with the mean temperature for each month (used later for colors in the FacetGrid plot), and we create a new column in temp dataframe\n",
    "month_mean_serie = temp.groupby('month')['Mean_TemperatureC'].mean()\n",
    "temp['mean_month'] = temp['month'].map(month_mean_serie)"
   ]
  },
  {
   "cell_type": "code",
   "execution_count": 130,
   "metadata": {},
   "outputs": [
    {
     "data": {
      "text/plain": [
       "<matplotlib.axes._subplots.AxesSubplot at 0x1f32feac5b0>"
      ]
     },
     "execution_count": 130,
     "metadata": {},
     "output_type": "execute_result"
    },
    {
     "data": {
      "image/png": "[encoded data removed]",
      "text/plain": [
       "<Figure size 432x288 with 1 Axes>"
      ]
     },
     "metadata": {},
     "output_type": "display_data"
    }
   ],
   "source": [
    "# library & dataset\n",
    "import seaborn as sns\n",
    "df = sns.load_dataset('iris')\n",
    "\n",
    "# use the function regplot to make a scatterplot\n",
    "sns.regplot(x=df[\"sepal_length\"], y=df[\"sepal_width\"])"
   ]
  },
  {
   "cell_type": "code",
   "execution_count": 3,
   "metadata": {},
   "outputs": [
    {
     "name": "stdout",
     "output_type": "stream",
     "text": [
      "list to string: gRoRlRd\n"
     ]
    }
   ],
   "source": [
    "print('list to string:', 'R'.join(['g', 'o', 'l', 'd']))"
   ]
  },
  {
   "cell_type": "code",
   "execution_count": 30,
   "metadata": {},
   "outputs": [],
   "source": [
    "def print_greeting(nombre, edad):\n",
    "    print('Hola', nombre)\n",
    "    print(edad)\n",
    "    "
   ]
  },
  {
   "cell_type": "code",
   "execution_count": 31,
   "metadata": {},
   "outputs": [
    {
     "name": "stdout",
     "output_type": "stream",
     "text": [
      "Hola Abraham\n",
      "15\n"
     ]
    }
   ],
   "source": [
    "print_greeting(nombre=\"Abraham\", edad=15)"
   ]
  },
  {
   "cell_type": "code",
   "execution_count": 21,
   "metadata": {},
   "outputs": [
    {
     "name": "stdout",
     "output_type": "stream",
     "text": [
      "1871/3/19\n",
      "1791724.5\n"
     ]
    }
   ],
   "source": [
    "def print_date(year, month, day):\n",
    "    joined = str(year) + '/' + str(month) + '/' + str(day)\n",
    "    print(joined)\n",
    "    suma = year+month+day\n",
    "    return suma\n",
    "\n",
    "resultado=print_date(month=3, year=1871, day=19)\n",
    "print((resultado**2)/2)"
   ]
  }
 ],
 "metadata": {
  "kernelspec": {
   "display_name": "Python 3",
   "language": "python",
   "name": "python3"
  },
  "language_info": {
   "codemirror_mode": {
    "name": "ipython",
    "version": 3
   },
   "file_extension": ".py",
   "mimetype": "text/x-python",
   "name": "python",
   "nbconvert_exporter": "python",
   "pygments_lexer": "ipython3",
   "version": "3.8.3"
  }
 },
 "nbformat": 4,
 "nbformat_minor": 4
}
